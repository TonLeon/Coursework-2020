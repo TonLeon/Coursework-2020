{
 "cells": [
  {
   "cell_type": "markdown",
   "metadata": {},
   "source": [
    "# 1 этап - загрузка модулей и предобработка текстов дневников"
   ]
  },
  {
   "cell_type": "code",
   "execution_count": 76,
   "metadata": {},
   "outputs": [],
   "source": [
    "import re\n",
    "import transliterate"
   ]
  },
  {
   "cell_type": "code",
   "execution_count": 112,
   "metadata": {},
   "outputs": [],
   "source": [
    "reg = '\\[...\\]' #Очистка дневников от купюр\n",
    "f = open('Diaries.txt')\n",
    "text = f.read()\n",
    "f.close()\n",
    "text = re.sub(reg, '', text)\n",
    "clean_diaries = open(r'./Clean_diaries.txt', 'w')\n",
    "clean_diaries.write(text)\n",
    "clean_diaries.close()"
   ]
  },
  {
   "cell_type": "code",
   "execution_count": 113,
   "metadata": {},
   "outputs": [],
   "source": [
    "#эта часть кода открывает твой текст, лемматизирует его по определенному принципу (здесь принцип -c - он сохраняет оригинал и при этом рядом пишет лемму)\n",
    "#и сохраняет его в новом файле, который стоит заранее создать. \n",
    "#вначале надо писать путь к программе mystem, потом путь к редактируемому тексту, потом путь к пустому файлу, куда все сохранится\n",
    "!/Users/tonleon/Downloads/mystem /Users/tonleon/Documents/GitHub/Coursework-2020/Clean_diaries.txt /Users/tonleon/Documents/GitHub/Coursework-2020/text.txt -d -c "
   ]
  },
  {
   "cell_type": "markdown",
   "metadata": {},
   "source": [
    "# В этой части создается наш будущий словарь, в котором лежат транслиты в ключах и русские вариации в значениях:"
   ]
  },
  {
   "cell_type": "code",
   "execution_count": 128,
   "metadata": {},
   "outputs": [],
   "source": [
    "f = open('List_of_russian_surnames.txt', 'r')\n",
    "list_of_surnames = f.readlines()\n",
    "f.close\n",
    "new_list_of_surnames = []\n",
    "reg = '([А-ЯЁ][а-яё]{2,})'\n",
    "for line in list_of_surnames:\n",
    "    line = re.findall(reg, line)\n",
    "    line += ['\\n']\n",
    "    line = ' '.join(line)\n",
    "    if line not in new_list_of_surnames:\n",
    "        new_list_of_surnames.append(line)\n",
    "        \n",
    "for surname_index, surname in enumerate(new_list_of_surnames):\n",
    "    new_list_of_surnames[surname_index] = surname.lower()\n",
    "    \n",
    "def processing(surnames):\n",
    "    surnames = ' '.join(surnames)\n",
    "    surnames = re.sub('святополк мирский', 'святополк-мирский', surnames)\n",
    "    surnames = re.sub('мельников печерский', 'мельников-печерский', surnames)\n",
    "    surnames = re.sub('поляков литовцев', 'поляков-литовцев', surnames)\n",
    "    surnames = re.sub('кулябко карецкий', 'кулябко-карецкий', surnames)\n",
    "    surnames = re.sub('овсянико куликовский', 'овсянико-куликовский', surnames)\n",
    "    surnames = re.sub('соколова кречетова', 'соколова-кречетова', surnames)\n",
    "    surnames = re.sub('дон аминадо', 'дон-аминадо', surnames)\n",
    "    surnames = re.sub('бунаков фондаминский', 'бунаков-фондаминский', surnames)\n",
    "    return surnames\n",
    "\n",
    "final_list = processing(new_list_of_surnames).split('\\n')"
   ]
  },
  {
   "cell_type": "code",
   "execution_count": 129,
   "metadata": {},
   "outputs": [],
   "source": [
    "def make_dict(final_list, to_str=True):\n",
    "    eng_2_rus_name = {}\n",
    "    for name in final_list[1:-1]:\n",
    "\n",
    "        name_list = name.strip().split(' ')\n",
    "        eng_name = transliterate.translit(name_list[0], reversed=True) #транслитерируем русскую фамилию\n",
    "        if to_str:\n",
    "            eng_2_rus_name[eng_name] = name.strip()\n",
    "        else:\n",
    "            eng_2_rus_name[eng_name] = name_list\n",
    "    return eng_2_rus_name"
   ]
  },
  {
   "cell_type": "markdown",
   "metadata": {},
   "source": [
    "ВОТ ТУТ ПОЯВИЛАСЬ ПЕРЕМЕННАЯ, В КОТОРОЙ ЛЕЖИТ ИСХОДНЫЙ СЛОВАРЬ"
   ]
  },
  {
   "cell_type": "code",
   "execution_count": 130,
   "metadata": {},
   "outputs": [],
   "source": [
    "dict_surnames = make_dict(final_list, False)"
   ]
  },
  {
   "cell_type": "markdown",
   "metadata": {},
   "source": [
    "* вот так можно генерировать списки и словари"
   ]
  },
  {
   "cell_type": "code",
   "execution_count": 131,
   "metadata": {},
   "outputs": [
    {
     "data": {
      "text/plain": [
       "[2]"
      ]
     },
     "execution_count": 131,
     "metadata": {},
     "output_type": "execute_result"
    }
   ],
   "source": [
    "[i for i in range(5) if i%2==0 and i!=0 and i+1==3]"
   ]
  },
  {
   "cell_type": "markdown",
   "metadata": {},
   "source": [
    "* собственно, так сгенерирован словарь, в котором в ключах находятся все фамилии и прозвища, которые у нас были, и их аналоги на английском языке"
   ]
  },
  {
   "cell_type": "code",
   "execution_count": 132,
   "metadata": {},
   "outputs": [],
   "source": [
    "first_rus_2_eng = {rus_surnames[i]: eng_surname \\\n",
    "                   for eng_surname, rus_surnames in dict_surnames.items() \\\n",
    "                   for i in range(len(rus_surnames))}"
   ]
  },
  {
   "cell_type": "markdown",
   "metadata": {},
   "source": [
    "# Тут начинается код по расставлению тэгов и созданию словаря (под который будет отдана отдельная тетрадка)"
   ]
  },
  {
   "cell_type": "code",
   "execution_count": 133,
   "metadata": {},
   "outputs": [],
   "source": [
    "f = open(r'text.txt', encoding = \"UTF-8\") #открываем кусок дневника\n",
    "text = f.read()\n",
    "f.close()\n",
    "dnevnik = text.split('\\n') #сплитим кусок по пробелам и видим слово и его лемму\n",
    "dnevnik_paragraph = []\n",
    "for string in dnevnik:\n",
    "    if re.match('^ *?\\d', string):\n",
    "        dnevnik_paragraph.append(string)\n",
    "    else:\n",
    "        dnevnik_paragraph.append('<p> '+string+' </p>') #размечаем каждый абзац дневника\n",
    "        \n",
    "dnevnik = '\\n'.join(dnevnik_paragraph)\n",
    "\n",
    "dnevnik = dnevnik.split(' ')"
   ]
  },
  {
   "cell_type": "markdown",
   "metadata": {},
   "source": [
    "* Surname_2_mark - функция, позволяющая расставлять правильно тэги с опорой на наш словарь"
   ]
  },
  {
   "cell_type": "code",
   "execution_count": 134,
   "metadata": {},
   "outputs": [],
   "source": [
    "def surname_2_mark(surname, original_form):\n",
    "    return '<persName ref=\"#'+ first_rus_2_eng[surname] +'\" lemma = \"'+ surname +'\">'+ original_form +'</persName>'"
   ]
  },
  {
   "cell_type": "markdown",
   "metadata": {},
   "source": [
    "* Эта штука ниже (множество) не нужна, но на всякий случай с помощью нее можно оставлять только уникальные значения. "
   ]
  },
  {
   "cell_type": "code",
   "execution_count": 135,
   "metadata": {},
   "outputs": [],
   "source": [
    "all_surnames = []\n",
    "for value in dict_surnames.values():\n",
    "    all_surnames += value\n",
    "all_surnames = set(all_surnames)"
   ]
  },
  {
   "cell_type": "markdown",
   "metadata": {},
   "source": [
    "# Вот тут начинается главная обработка с поиском фамилий"
   ]
  },
  {
   "cell_type": "code",
   "execution_count": 136,
   "metadata": {
    "scrolled": true
   },
   "outputs": [],
   "source": [
    "reg = \"\\{\\S*\\}\" #это регулярка для того, что находится в {} скобках\n",
    "\n",
    "marked_text= []\n",
    "for string in dnevnik: #работаем с переменной, в которой у нас список со словами и их леммами\n",
    "    #print ('исходная строка ', string)\n",
    "    allregs = re.findall(reg, string) #находим в списке подстроки, которые подходят под регулярку\n",
    "    if allregs: #если нашли такую подстроку, начинаем ее очищать от всякой грязи\n",
    "        for word in allregs: \n",
    "            original_form = re.sub(reg, '', string) #очищаем строки от их лемм и сохраняем в таком виде\n",
    "            #print ()\n",
    "            word = word.strip('{}')\n",
    "            word = word.replace(\"|\", \" \")\n",
    "            word = word.replace(\"?\",\"\")\n",
    "            \n",
    "            if ' ' in word and re.match ('[А-ЯЁ]', re.sub('[^А-ЯЁа-яё]','',original_form)): #смотрим на те строки, где у нас подряд написано несколько имен и при этом проверяем, начинаются ли исходные строки, а не леммы, с большой буквы\n",
    "                list_words = word.split() #превращаем их в список из нескольких элементов\n",
    "                printed = False\n",
    "                for n in list_words:\n",
    "                    n.strip() #каждый элемент списка как бы чистим, превращая таким образом это в строки, которые в двух разных линиях\n",
    "                    \n",
    "                    if n in first_rus_2_eng: #ищем подстроки в словаре\n",
    "                        #print ('case 1')\n",
    "                        marked_text.append(surname_2_mark(n, original_form))\n",
    "                        \n",
    "                        printed = True\n",
    "                if not printed:\n",
    "                    #print ('case 2')\n",
    "                    marked_text.append(original_form)\n",
    "                   \n",
    "            elif word in first_rus_2_eng and re.match ('[А-ЯЁ]', re.sub('[^А-ЯЁа-яё]','',original_form)): #возвращаемся к нормальным одиноким словам в строке, ищем их в словаре\n",
    "                #print ('case 3')\n",
    "                marked_text.append(surname_2_mark(word, original_form)) #если программа находит, пишет тэг\n",
    "            \n",
    "            else:\n",
    "                #print ('case 4')\n",
    "                marked_text.append(original_form) #пишем итоговый вариант\n",
    "    else:\n",
    "        marked_text.append(string)\n",
    "    \n",
    "new_text = ' '.join(marked_text)\n",
    "\n",
    "#print(marked_text)"
   ]
  },
  {
   "cell_type": "code",
   "execution_count": 137,
   "metadata": {},
   "outputs": [],
   "source": [
    "first_data = True #создаем глобальную метку того, что вхождение даты первое\n",
    "start = True #создаем глобальную метку того, что вхождение строки первое\n",
    "\n",
    "def put_tag(line):\n",
    "    global first_data, start #передаем глобальные переменные функции\n",
    "    if start:\n",
    "        start = False #меняем, потому что он уже прошел первую строчку, и для всех остальных это неправда\n",
    "        return '<root>' + line\n",
    "    elif re.match('^ *?\\d', line): #есть ошибка, потому что одна из записей начинается с числа, но оно не относится к дате\n",
    "        if first_data:\n",
    "            first_data = False #the same case\n",
    "            return '<note><date>'+line+'</date>'\n",
    "        else:\n",
    "            return '</note><note><date>'+line+'</date>'\n",
    "    else:\n",
    "        return line"
   ]
  },
  {
   "cell_type": "code",
   "execution_count": 138,
   "metadata": {},
   "outputs": [],
   "source": [
    "#функция, которая дублирует то, что находится двуия чанками ниже\n",
    "def mark_text(text):\n",
    "    global first_data, start\n",
    "    first_data = True #создаем глобальную метку того, что вхождение даты первое\n",
    "    start = True #создаем глобальную метку того, что вхождение строки первое\n",
    "    clean_list = []\n",
    "    text_for_dates = text.split('\\n')\n",
    "    for string in text_for_dates:\n",
    "        clean_list.append(put_tag(string))\n",
    "    clean_list[-1]+='</note></root>'\n",
    "   \n",
    "    return '\\n'.join(clean_list)"
   ]
  },
  {
   "cell_type": "code",
   "execution_count": 139,
   "metadata": {},
   "outputs": [],
   "source": [
    "marked_diary = mark_text(new_text)"
   ]
  },
  {
   "cell_type": "code",
   "execution_count": 140,
   "metadata": {},
   "outputs": [],
   "source": [
    "final_text = open(r'./Marked_text.xml', 'w')\n",
    "final_text.write(marked_diary)\n",
    "final_text.close()"
   ]
  },
  {
   "cell_type": "markdown",
   "metadata": {},
   "source": [
    "* БОНУС: про то, как работает функция global"
   ]
  },
  {
   "cell_type": "code",
   "execution_count": 51,
   "metadata": {},
   "outputs": [],
   "source": [
    "fir = True\n",
    "\n",
    "def square(x):\n",
    "    global fir #выходит за пределы функции и находит переменные, которые были заданы ранее\n",
    "    if fir:\n",
    "        fir = False\n",
    "        return x**2 + 1\n",
    "    else:\n",
    "        return x**2"
   ]
  },
  {
   "cell_type": "code",
   "execution_count": 53,
   "metadata": {},
   "outputs": [
    {
     "data": {
      "text/plain": [
       "9"
      ]
     },
     "execution_count": 53,
     "metadata": {},
     "output_type": "execute_result"
    }
   ],
   "source": [
    "square(3)"
   ]
  }
 ],
 "metadata": {
  "kernelspec": {
   "display_name": "Python 3",
   "language": "python",
   "name": "python3"
  },
  "language_info": {
   "codemirror_mode": {
    "name": "ipython",
    "version": 3
   },
   "file_extension": ".py",
   "mimetype": "text/x-python",
   "name": "python",
   "nbconvert_exporter": "python",
   "pygments_lexer": "ipython3",
   "version": "3.8.1"
  }
 },
 "nbformat": 4,
 "nbformat_minor": 2
}
