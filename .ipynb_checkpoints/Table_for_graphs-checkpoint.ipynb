{
 "cells": [
  {
   "cell_type": "code",
   "execution_count": 41,
   "metadata": {},
   "outputs": [],
   "source": [
    "from bs4 import BeautifulSoup as bs\n",
    "import itertools\n",
    "from itertools import combinations\n",
    "import re\n",
    "import pandas as pd\n",
    "import numpy as np\n",
    "import copy\n",
    "import matplotlib.pyplot as plt"
   ]
  },
  {
   "cell_type": "markdown",
   "metadata": {},
   "source": [
    "### Делаем функцию для открытия размеченного дневника формата xml"
   ]
  },
  {
   "cell_type": "code",
   "execution_count": 3,
   "metadata": {},
   "outputs": [],
   "source": [
    "def open_xml(path):\n",
    "    f = open(path)\n",
    "    diary = f.read()\n",
    "    f.close()\n",
    "    soup = bs(diary, 'xml')\n",
    "    return soup"
   ]
  },
  {
   "cell_type": "markdown",
   "metadata": {},
   "source": [
    "### Создаем функцию, которая находит упоминания людей под нужным нам тэгом ('p' - просто в абзаце, 'meeting' - именно встречу, а не упоминание в рассказе или письмо). Получается список списков."
   ]
  },
  {
   "cell_type": "code",
   "execution_count": 4,
   "metadata": {
    "scrolled": true
   },
   "outputs": [],
   "source": [
    "def mentions_of_people(soup, tag):\n",
    "    all_mentions = []\n",
    "    for par in soup.find_all(tag):\n",
    "        mentioned_ref = list(set([persName.get('ref') for persName in par.find_all('persName')]))\n",
    "        if len(mentioned_ref) != 0:\n",
    "            all_mentions.append(mentioned_ref)\n",
    "    return all_mentions"
   ]
  },
  {
   "cell_type": "markdown",
   "metadata": {},
   "source": [
    "### Создаем mentions_table - таблицу-матрицу, в которой будут обозначены встречи/пересечения/упоминания людей в одном параграфе или в одной встрече"
   ]
  },
  {
   "cell_type": "code",
   "execution_count": 5,
   "metadata": {},
   "outputs": [],
   "source": [
    "'''Эта функция нужна для того, чтобы выудить из всех наших упоминаний уникальные фамилии\n",
    "в соответствии с ними сделать нужного размера матрицу'''\n",
    "def lst_surnames_of_further_matrix(all_mentions):\n",
    "    surnames_for_further_matrix = []\n",
    "    for mention in all_mentions:\n",
    "        surnames_for_further_matrix += mention\n",
    "    unique_surnames_for_further_matrix = list(sorted(set(surnames_for_further_matrix)))\n",
    "    return unique_surnames_for_further_matrix"
   ]
  },
  {
   "cell_type": "code",
   "execution_count": 6,
   "metadata": {},
   "outputs": [],
   "source": [
    "def make_mentions_table(unique_surnames_for_further_matrix, all_mentions):\n",
    "    \n",
    "    '''эта функция создает нужного размера матрицу'''\n",
    "    \n",
    "    num_surnames = len(unique_surnames_for_further_matrix)\n",
    "    mentions_table = pd.DataFrame(data=np.zeros(shape=(num_surnames, num_surnames)), \n",
    "                                  columns=unique_surnames_for_further_matrix,\n",
    "                                  index=unique_surnames_for_further_matrix)\n",
    "    \n",
    "    def add_person_2_table(mentions_table, surname_list):\n",
    "        \n",
    "        '''эту функцию прибавления встреч в матрицу я засунула в функцию по созданию таблицы, чтобы при\n",
    "        обновлении кода таблица обновлялась. Иначе она получается кумулятивной. Surname_list - фиктивная\n",
    "        переменная из следующей команды в этом чанке'''\n",
    "        \n",
    "        for surname_1 in surname_list:\n",
    "            for surname_2 in surname_list:\n",
    "                mentions_table.at[surname_1, surname_2] += 1 \n",
    "                #dataframe.at - фишка pandas, благодаря чему на пересечении двух фамилий прибавляется единица\n",
    "        return mentions_table\n",
    "\n",
    "    for surname_list in all_mentions:\n",
    "        add_person_2_table(mentions_table, surname_list)\n",
    "    \n",
    "    return mentions_table\n",
    "\n",
    "# pd.set_option('display.max_rows', 308)\n",
    "# pd.set_option('display.max_columns', 308)"
   ]
  },
  {
   "cell_type": "markdown",
   "metadata": {},
   "source": [
    "### Можем превратить нашу матрицу в таблицу с тремя колонками - кто, с кем и сколько раз пересекался"
   ]
  },
  {
   "cell_type": "code",
   "execution_count": 7,
   "metadata": {},
   "outputs": [],
   "source": [
    "def table_2_3column(table, to_dataframe=True):\n",
    "    new_table = []\n",
    "    names = table.columns\n",
    "    for i in range(len(table)):\n",
    "        for j in range(i, len(table)):\n",
    "            if table.iloc[i, j] != 0:\n",
    "                new_table.append([names[i], names[j], table.iloc[i, j]])\n",
    "    if to_dataframe:\n",
    "        return pd.DataFrame(new_table, columns=('Source', 'Target', 'Weight'))\n",
    "    return new_table"
   ]
  },
  {
   "cell_type": "markdown",
   "metadata": {},
   "source": [
    "### Финальная функция, в которой создается и сохраняется таблица для каждого года "
   ]
  },
  {
   "cell_type": "code",
   "execution_count": 8,
   "metadata": {},
   "outputs": [],
   "source": [
    "def creating_a_table_for_each_year():\n",
    "    for x in range(1928, 1940):\n",
    "        soup = open_xml('Processed_Diary-{}.xml'.format(x))\n",
    "        all_mentions = mentions_of_people(soup, 'meeting')\n",
    "        \n",
    "        all_mentions_with_Bunins = mentions_of_people(soup, 'meeting')\n",
    "        for list_with_names in all_mentions_with_Bunins:\n",
    "            list_with_names.append('#bunins')\n",
    "            \n",
    "        '''тут можно выбрать другой тэг, например <note>'''\n",
    "        unique_surnames_for_further_matrix = lst_surnames_of_further_matrix(all_mentions)\n",
    "        unique_surnames_for_further_matrix_with_Bunins = lst_surnames_of_further_matrix(all_mentions_with_Bunins)\n",
    "        \n",
    "        mentions_table = make_mentions_table(unique_surnames_for_further_matrix, all_mentions)\n",
    "        mentions_table_with_Bunins = make_mentions_table(unique_surnames_for_further_matrix_with_Bunins, all_mentions_with_Bunins)\n",
    "        \n",
    "        final_table = table_2_3column(mentions_table)\n",
    "        final_table_with_Bunins = table_2_3column(mentions_table_with_Bunins)\n",
    "        \n",
    "        final_table.to_csv('Table_{}.csv'.format(x), index = False, sep='\\t')\n",
    "        final_table_with_Bunins.to_csv('Table_with_Bunins_{}.csv'.format(x), index = False, sep='\\t')\n",
    " "
   ]
  },
  {
   "cell_type": "code",
   "execution_count": 13,
   "metadata": {},
   "outputs": [],
   "source": [
    "def creating_a_table_for_all_years(path):\n",
    "    soup = open_xml(path)\n",
    "    \n",
    "    all_mentions = mentions_of_people(soup, 'meeting')\n",
    "    all_mentions_with_Bunins = mentions_of_people(soup, 'meeting')\n",
    "    for list_with_names in all_mentions_with_Bunins:\n",
    "            list_with_names.append('#bunins')\n",
    "            \n",
    "    '''тут можно выбрать другой тэг, например <note>'''\n",
    "    unique_surnames_for_further_matrix = lst_surnames_of_further_matrix(all_mentions)\n",
    "    unique_surnames_for_further_matrix_with_Bunins = lst_surnames_of_further_matrix(all_mentions_with_Bunins)\n",
    "\n",
    "    mentions_table = make_mentions_table(unique_surnames_for_further_matrix, all_mentions)\n",
    "    mentions_table_with_Bunins = make_mentions_table(unique_surnames_for_further_matrix_with_Bunins, all_mentions_with_Bunins)\n",
    "\n",
    "    final_table = table_2_3column(mentions_table)\n",
    "    final_table_with_Bunins = table_2_3column(mentions_table_with_Bunins)\n",
    "    \n",
    "    \n",
    "\n",
    "    final_table.to_csv('Table_for_all_years.csv', index = False, sep='\\t')\n",
    "    final_table_with_Bunins.to_csv('Table_with_Bunins_for_all_years.csv', index = False, sep='\\t')"
   ]
  },
  {
   "cell_type": "code",
   "execution_count": 10,
   "metadata": {},
   "outputs": [],
   "source": [
    "creating_a_table_for_each_year()"
   ]
  },
  {
   "cell_type": "code",
   "execution_count": 14,
   "metadata": {},
   "outputs": [],
   "source": [
    "creating_a_table_for_all_years('Processed_Marked_text.xml')"
   ]
  },
  {
   "cell_type": "markdown",
   "metadata": {},
   "source": [
    "### Для будущей таблицы атрибутов сделаем список референсов"
   ]
  },
  {
   "cell_type": "code",
   "execution_count": 12,
   "metadata": {},
   "outputs": [
    {
     "ename": "NameError",
     "evalue": "name 'soup' is not defined",
     "output_type": "error",
     "traceback": [
      "\u001b[0;31m---------------------------------------------------------------------------\u001b[0m",
      "\u001b[0;31mNameError\u001b[0m                                 Traceback (most recent call last)",
      "\u001b[0;32m<ipython-input-12-72d96c10b46f>\u001b[0m in \u001b[0;36m<module>\u001b[0;34m\u001b[0m\n\u001b[0;32m----> 1\u001b[0;31m \u001b[0mpersNames\u001b[0m \u001b[0;34m=\u001b[0m \u001b[0msoup\u001b[0m\u001b[0;34m.\u001b[0m\u001b[0mfind_all\u001b[0m\u001b[0;34m(\u001b[0m\u001b[0;34m'persName'\u001b[0m\u001b[0;34m)\u001b[0m\u001b[0;34m\u001b[0m\u001b[0;34m\u001b[0m\u001b[0m\n\u001b[0m\u001b[1;32m      2\u001b[0m \u001b[0mlst_of_refs\u001b[0m \u001b[0;34m=\u001b[0m \u001b[0;34m[\u001b[0m\u001b[0;34m]\u001b[0m\u001b[0;34m\u001b[0m\u001b[0;34m\u001b[0m\u001b[0m\n\u001b[1;32m      3\u001b[0m \u001b[0;32mfor\u001b[0m \u001b[0mname\u001b[0m \u001b[0;32min\u001b[0m \u001b[0mpersNames\u001b[0m\u001b[0;34m:\u001b[0m\u001b[0;34m\u001b[0m\u001b[0;34m\u001b[0m\u001b[0m\n\u001b[1;32m      4\u001b[0m     \u001b[0mlst_of_refs\u001b[0m\u001b[0;34m.\u001b[0m\u001b[0mappend\u001b[0m\u001b[0;34m(\u001b[0m\u001b[0mname\u001b[0m\u001b[0;34m.\u001b[0m\u001b[0mget\u001b[0m\u001b[0;34m(\u001b[0m\u001b[0;34m'ref'\u001b[0m\u001b[0;34m)\u001b[0m\u001b[0;34m)\u001b[0m\u001b[0;34m\u001b[0m\u001b[0;34m\u001b[0m\u001b[0m\n",
      "\u001b[0;31mNameError\u001b[0m: name 'soup' is not defined"
     ]
    }
   ],
   "source": [
    "'''здесь надо открыть файл со всеми дневниками'''\n",
    "persNames = soup.find_all('persName')\n",
    "lst_of_refs = []\n",
    "for name in persNames:\n",
    "    lst_of_refs.append(name.get('ref'))"
   ]
  },
  {
   "cell_type": "code",
   "execution_count": null,
   "metadata": {},
   "outputs": [],
   "source": [
    "lst_of_unique_refs = sorted(list(set(lst_of_refs)))"
   ]
  },
  {
   "cell_type": "code",
   "execution_count": null,
   "metadata": {},
   "outputs": [],
   "source": [
    "len(lst_of_unique_refs)"
   ]
  },
  {
   "cell_type": "code",
   "execution_count": null,
   "metadata": {},
   "outputs": [],
   "source": [
    "with open('List_of_refs.txt', 'w') as file:\n",
    "    for line in lst_of_unique_refs:\n",
    "        file.write(line+'\\n')"
   ]
  },
  {
   "cell_type": "code",
   "execution_count": 36,
   "metadata": {},
   "outputs": [],
   "source": [
    "quantity_of_notes = []\n",
    "for x in range(1928, 1940):\n",
    "    soup = open_xml('Processed_Diary-{}.xml'.format(x))\n",
    "    all_notes = soup.find_all ('note')\n",
    "    quantity_of_notes.append(len(all_notes))"
   ]
  },
  {
   "cell_type": "code",
   "execution_count": 37,
   "metadata": {},
   "outputs": [
    {
     "data": {
      "text/plain": [
       "[64, 85, 75, 51, 53, 51, 21, 12, 19, 15, 3, 40]"
      ]
     },
     "execution_count": 37,
     "metadata": {},
     "output_type": "execute_result"
    }
   ],
   "source": [
    "quantity_of_notes"
   ]
  },
  {
   "cell_type": "code",
   "execution_count": 47,
   "metadata": {},
   "outputs": [
    {
     "data": {
      "image/png": "[encoded data removed]",
      "text/plain": [
       "<Figure size 432x288 with 1 Axes>"
      ]
     },
     "metadata": {
      "needs_background": "light"
     },
     "output_type": "display_data"
    }
   ],
   "source": [
    "dic_quantity_of_notes = {i + 1928: quantity_of_notes[i] for i, quantity_of_notes[i] \\\n",
    "                          in enumerate(quantity_of_notes)}\n",
    "\n",
    "font_args = {'fontname':'Georgia', 'size': '15'}\n",
    "\n",
    "plt.bar(dic_quantity_of_notes.keys(), dic_quantity_of_notes.values(), color='mediumseagreen')\n",
    "plt.xticks(range(1928, 1940),rotation=45, **font_args)\n",
    "plt.yticks(range(0, 100, 10), **font_args)\n",
    "plt.xlabel('Years', **font_args)\n",
    "plt.ylabel('Number of notes', **font_args)\n",
    "plt.savefig('Num_of_notes.png',bbox_inches=\"tight\")"
   ]
  },
  {
   "cell_type": "code",
   "execution_count": null,
   "metadata": {},
   "outputs": [],
   "source": []
  }
 ],
 "metadata": {
  "kernelspec": {
   "display_name": "Python 3",
   "language": "python",
   "name": "python3"
  },
  "language_info": {
   "codemirror_mode": {
    "name": "ipython",
    "version": 3
   },
   "file_extension": ".py",
   "mimetype": "text/x-python",
   "name": "python",
   "nbconvert_exporter": "python",
   "pygments_lexer": "ipython3",
   "version": "3.8.1"
  }
 },
 "nbformat": 4,
 "nbformat_minor": 4
}
