{
 "cells": [
  {
   "cell_type": "code",
   "execution_count": 2,
   "metadata": {},
   "outputs": [],
   "source": [
    "from bs4 import BeautifulSoup as bs"
   ]
  },
  {
   "cell_type": "code",
   "execution_count": 22,
   "metadata": {},
   "outputs": [],
   "source": [
    "f = open('/Users/tonleon/Documents/GitHub/Coursework-2020/Trial_marked_text.xml', 'r')\n",
    "contents = f.read()\n",
    "f.close()"
   ]
  },
  {
   "cell_type": "code",
   "execution_count": 27,
   "metadata": {},
   "outputs": [
    {
     "name": "stdout",
     "output_type": "stream",
     "text": [
      "<?xml version=\"1.0\" encoding=\"utf-8\"?>\n",
      "<root>\n",
      " <note>\n",
      "  <date>\n",
      "   23.2.\n",
      "  </date>\n",
      "  Обед у\n",
      "  <persName lemma=\"ага\" ref=\"#aga\">\n",
      "   Ага\n",
      "  </persName>\n",
      "  и чай у\n",
      "  <persName lemma=\"цетлин\" ref=\"#tsetlin\">\n",
      "   Цетлиных.\n",
      "  </persName>\n",
      "  <persName lemma=\"цетлина\" ref=\"#tsetlina\">\n",
      "   Цетлиных.\n",
      "  </persName>\n",
      "  [Вера Николаевна записывает:]\n",
      " </note>\n",
      " <note>\n",
      "  <date>\n",
      "   23 февраля 1928 г.\n",
      "  </date>\n",
      "  Вчера видели\n",
      "  <persName lemma=\"алданов\" ref=\"#aldanov\">\n",
      "   Алданова,\n",
      "  </persName>\n",
      "  он очень изменился, пополнел, стал каким-то солидным, но все такой же\n",
      "      милый, деликатный, заботливый. Это он боится моих дневников, жаловался на это\n",
      "  <persName lemma=\"цвибак\" ref=\"#tsvibak\">\n",
      "   Цвибаку.\n",
      "  </persName>\n",
      "  Обедали у\n",
      "  <persName lemma=\"цетлин\" ref=\"#tsetlin\">\n",
      "   Цетлиных.\n",
      "  </persName>\n",
      "  <persName lemma=\"цетлина\" ref=\"#tsetlina\">\n",
      "   Цетлиных.\n",
      "  </persName>\n",
      "  М. С. ушла играть в поккер, а\n",
      "      мы пошли с М. Ос. на лекцию\n",
      "  <persName lemma=\"адамович\" ref=\"#adamovich\">\n",
      "   Адамовича,\n",
      "  </persName>\n",
      "  которая не состоялась, в виду того, что пришло 4 человека вместе с лектором. С горя пошли в\n",
      "      полосатый бар. Много говорили о литературе. Залили\n",
      "  <persName lemma=\"берберова\" ref=\"#berberova\">\n",
      "   Берберовой\n",
      "  </persName>\n",
      "  за шкуру.\n",
      " </note>\n",
      "</root>\n"
     ]
    }
   ],
   "source": [
    "soup = bs(contents, 'xml')\n",
    "print(soup.prettify())"
   ]
  },
  {
   "cell_type": "code",
   "execution_count": 26,
   "metadata": {},
   "outputs": [
    {
     "name": "stdout",
     "output_type": "stream",
     "text": [
      " 23.2. Обед у Ага и чай у\n",
      "         Цетлиных. \n",
      "Цетлиных.  [Вера Николаевна записывает:] \n",
      " 23 февраля 1928 г. Вчера видели Алданова, он очень изменился, пополнел, стал каким-то солидным, но все такой же\n",
      "      милый, деликатный, заботливый. Это он боится моих дневников, жаловался на это Цвибаку. Обедали у Цетлиных.\n",
      "Цетлиных. М. С. ушла играть в поккер, а\n",
      "      мы пошли с М. Ос. на лекцию Адамовича,\n",
      "      которая не состоялась, в виду того, что пришло 4 человека вместе с лектором. С горя пошли в\n",
      "      полосатый бар. Много говорили о литературе. Залили Берберовой за шкуру. \n"
     ]
    }
   ],
   "source": [
    "notes = soup.find_all('note')\n",
    "for note in notes:\n",
    "    if '<date>' in note:\n",
    "        continue\n",
    "    else:\n",
    "        new_note = note.get_text()\n",
    "        print(new_note)\n",
    "    "
   ]
  },
  {
   "cell_type": "code",
   "execution_count": 21,
   "metadata": {},
   "outputs": [
    {
     "name": "stdout",
     "output_type": "stream",
     "text": [
      "<root>\n",
      "\n"
     ]
    }
   ],
   "source": [
    "print(content)"
   ]
  },
  {
   "cell_type": "code",
   "execution_count": null,
   "metadata": {},
   "outputs": [],
   "source": []
  }
 ],
 "metadata": {
  "kernelspec": {
   "display_name": "Python 3",
   "language": "python",
   "name": "python3"
  },
  "language_info": {
   "codemirror_mode": {
    "name": "ipython",
    "version": 3
   },
   "file_extension": ".py",
   "mimetype": "text/x-python",
   "name": "python",
   "nbconvert_exporter": "python",
   "pygments_lexer": "ipython3",
   "version": "3.8.1"
  }
 },
 "nbformat": 4,
 "nbformat_minor": 4
}
