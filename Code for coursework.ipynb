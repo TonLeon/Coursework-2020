{
 "cells": [
  {
   "cell_type": "code",
   "execution_count": 15,
   "metadata": {},
   "outputs": [],
   "source": [
    "import pymystem3"
   ]
  },
  {
   "cell_type": "code",
   "execution_count": 16,
   "metadata": {},
   "outputs": [],
   "source": [
    "import re"
   ]
  },
  {
   "cell_type": "code",
   "execution_count": 9,
   "metadata": {},
   "outputs": [
    {
     "name": "stdout",
     "output_type": "stream",
     "text": [
      "Requirement already satisfied: transliterate in c:\\users\\elisaveta\\anaconda3\\lib\\site-packages (1.10.2)\n",
      "Requirement already satisfied: six>=1.1.0 in c:\\users\\elisaveta\\anaconda3\\lib\\site-packages (from transliterate) (1.12.0)\n"
     ]
    }
   ],
   "source": [
    "!pip install transliterate"
   ]
  },
  {
   "cell_type": "code",
   "execution_count": 17,
   "metadata": {},
   "outputs": [],
   "source": [
    "import transliterate"
   ]
  },
  {
   "cell_type": "code",
   "execution_count": 18,
   "metadata": {},
   "outputs": [],
   "source": [
    "#эта часть кода открывает твой текст, лемматизирует его по определенному принципу (здесь принцип -c - он сохраняет оригинал и при этом рядом пишет лемму)\n",
    "#и сохраняет его в новом файле, который стоит заранее создать. \n",
    "#вначале надо писать путь к программе mystem, потом путь к редактируемому тексту, потом путь к пустому файлу, куда все сохранится\n",
    "!C:\\Users\\Elisaveta\\MyStem\\mystem.exe C:\\Users\\Elisaveta\\Documents\\GitHub\\Coursework-2020\\Clean_2_level.txt C:\\Users\\Elisaveta\\Documents\\GitHub\\Coursework-2020\\text.txt -c "
   ]
  },
  {
   "cell_type": "code",
   "execution_count": 41,
   "metadata": {},
   "outputs": [],
   "source": [
    "f = open(r'text.txt', encoding = \"UTF-8\") #открываем кусок дневника\n",
    "text = f.read()\n",
    "f.close()\n",
    "dnevnik = text.split(' ') #сплитим кусок по пробелам и видим слово и его лемму"
   ]
  },
  {
   "cell_type": "code",
   "execution_count": 20,
   "metadata": {},
   "outputs": [],
   "source": [
    "f = open(r\"Surnames russian.txt\", \"r\", encoding = \"UTF-8\") #открываем файл со списком\n",
    "                                                                                                         #русских фамилий без инициалов\n",
    "list1 = f.readlines()\n",
    "f.close()\n",
    "list_of_surnames = []\n",
    "for w in list1:\n",
    "    w = w.lower() #приводим фамилии к нижнему регистру\n",
    "    if w:\n",
    "        list_of_surnames.append(w.strip()) #добавляем это все в новый список\n",
    "        \n",
    "list_of_surnames_english = [] #создаем пустой список для английского транслита\n",
    "for n in list_of_surnames: #обращаемся к списку с фамилиями на русском\n",
    "    if n:\n",
    "        name = transliterate.translit(n, reversed=True) #транслитерируем русскую фамилию\n",
    "        list_of_surnames_english.append(name) #добавляем в пустой список, где должен быть транлит\n",
    "        \n",
    "\n",
    "dict_surnames = dict(zip(list_of_surnames, list_of_surnames_english)) #соединяем два списка - с фамилиями на рус и англ, получая таким образом словарь\n",
    "\n",
    "#with open(r\".\\Dictionary of surnames.txt\", \"w\") as fw:\n",
    "  #  for word in d:\n",
    "  #      fw.write(\"{} \\t {}\\n\". format(word, d[word]))"
   ]
  },
  {
   "cell_type": "code",
   "execution_count": 21,
   "metadata": {},
   "outputs": [],
   "source": [
    "def surname_2_mark(surname, original_form):\n",
    "    return '<persName ref=\"#'+ dict_surnames[surname] +'\" lemma = \"'+ surname +'\" #>'+ original_form +'</persName>'"
   ]
  },
  {
   "cell_type": "code",
   "execution_count": 45,
   "metadata": {
    "scrolled": true
   },
   "outputs": [],
   "source": [
    "reg = \"\\{\\S*\\}\" #это регулярка для того, что находится в {} скобках\n",
    "\n",
    "marked_text= []\n",
    "for string in dnevnik: #работаем с переменной, в которой у нас список со словами и их леммами\n",
    "    #print ('исходная строка ', string)\n",
    "    allregs = re.findall(reg, string) #находим в списке подстроки, которые подходят под регулярку\n",
    "    if allregs: #если нашли такую подстроку, начинаем ее очищать от всякой грязи\n",
    "        for word in allregs: \n",
    "            original_form = re.sub(reg, '', string) #очищаем строки от их лемм и сохраняем в таком виде\n",
    "            #print ()\n",
    "            word = word.strip('{}')\n",
    "            word = word.replace(\"|\", \" \")\n",
    "            word = word.replace(\"?\",\"\")\n",
    "            \n",
    "            if ' ' in word and re.match ('[А-ЯЁ]', re.sub('[^А-ЯЁа-яё]','',original_form)): #смотрим на те строки, где у нас подряд написано несколько имен и при этом проверяем, начинаются ли исходные строки, а не леммы, с большой буквы\n",
    "                list_words = word.split() #превращаем их в список из нескольких элементов\n",
    "                printed = False\n",
    "                for n in list_words:\n",
    "                    n.strip() #каждый элемент списка как бы чистим, превращая таким образом это в строки, которые в двух разных линиях\n",
    "                    if n in dict_surnames: #ищем подстроки в словаре\n",
    "                        #print ('case 1')\n",
    "                        marked_text.append(surname_2_mark(n, original_form))\n",
    "                        \n",
    "                        printed = True\n",
    "                if not printed:\n",
    "                    #print ('case 2')\n",
    "                    marked_text.append(original_form)\n",
    "                   \n",
    "            elif word in dict_surnames and re.match ('[А-ЯЁ]', re.sub('[^А-ЯЁа-яё]','',original_form)): #возвращаемся к нормальным одиноким словам в строке, ищем их в словаре\n",
    "                #print ('case 3')\n",
    "                marked_text.append(surname_2_mark(word, original_form)) #если программа находит, пишет тэг\n",
    "            \n",
    "            else:\n",
    "                #print ('case 4')\n",
    "                marked_text.append(original_form) #пишем итоговый вариант\n",
    "    else:\n",
    "        marked_text.append(string)\n",
    "    \n",
    "new_text = ' '.join(marked_text)"
   ]
  },
  {
   "cell_type": "code",
   "execution_count": 23,
   "metadata": {},
   "outputs": [],
   "source": [
    "#Проблемы, которые возникли при разметке: \n",
    "#омонимия фамилий (белый/Белый: Жизнь Арсеньева и Арсеньев как реальный человек); \n",
    "#что делать с прозвищами/именами, как их соединить с фамилиями\n",
    "#как соединить все в одну строку\n",
    "\n",
    "#Идеи:\n",
    "#можно разметить каждый день дневника (придумать регулярки, потому что формат у датирования всегда разный), и потом попросить\n",
    "#программу выдавать только строки, которые начинаются с <>. Предварительно, скорее всего, надо все почистить (от той же омонимии)\n",
    "\n",
    "#Что надо сделать:\n",
    "#очистить словарь от инициалов"
   ]
  },
  {
   "cell_type": "code",
   "execution_count": 49,
   "metadata": {},
   "outputs": [],
   "source": [
    "final_text = open(r'./Marked_text.txt', 'w')\n",
    "final_text.write(new_text)\n",
    "final_text.close()"
   ]
  }
 ],
 "metadata": {
  "kernelspec": {
   "display_name": "Python 3",
   "language": "python",
   "name": "python3"
  },
  "language_info": {
   "codemirror_mode": {
    "name": "ipython",
    "version": 3
   },
   "file_extension": ".py",
   "mimetype": "text/x-python",
   "name": "python",
   "nbconvert_exporter": "python",
   "pygments_lexer": "ipython3",
   "version": "3.7.4"
  }
 },
 "nbformat": 4,
 "nbformat_minor": 2
}
