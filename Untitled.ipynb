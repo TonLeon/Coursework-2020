{
 "cells": [
  {
   "cell_type": "code",
   "execution_count": 4,
   "metadata": {},
   "outputs": [],
   "source": [
    "from bs4 import BeautifulSoup as bs"
   ]
  },
  {
   "cell_type": "code",
   "execution_count": 49,
   "metadata": {},
   "outputs": [],
   "source": [
    "f = open('Trial_marked_text.xml')\n",
    "diary = f.read()\n",
    "f.close()"
   ]
  },
  {
   "cell_type": "code",
   "execution_count": 50,
   "metadata": {},
   "outputs": [
    {
     "data": {
      "text/plain": [
       "<?xml version=\"1.0\" encoding=\"utf-8\"?>\n",
       "<root>\n",
       "<note><date>   23 февраля 1928 г.</date>\n",
       "<p>     Вчера видели <persName lemma=\"алданов\" ref=\"#landau\">Алданова,</persName> он очень изменился, пополнел, стал каким-то солидным, но все такой же милый, деликатный, заботливый. Это он боится моих дневников, жаловался на это Цвибаку.  </p>\n",
       "<p>    Обедали у <persName lemma=\"цетлин\" ref=\"#tsetlin\">Цетлиных.</persName>  М. С. ушла играть в поккер, а мы пошли с М. Ос. на лекцию <persName lemma=\"адамович\" ref=\"#adamovich\">Адамовича,</persName> которая не состоялась, в виду того, что пришло 4 человека вместе с лектором.  С горя пошли в полосатый бар. Много говорили о литературе. Залили Берберовой за шкуру.  </p>\n",
       "<p> </p>\n",
       "</note>\n",
       "</root>"
      ]
     },
     "execution_count": 50,
     "metadata": {},
     "output_type": "execute_result"
    }
   ],
   "source": [
    "soup = bs(diary, 'xml')\n",
    "soup"
   ]
  },
  {
   "cell_type": "markdown",
   "metadata": {},
   "source": [
    "<note>\n",
    "    <date> 19.05.1929 </date>\n",
    "    <p>\n",
    "        <persName>Кузнецова</persName>\n",
    "        <perName>Бунин</persName>\n",
    "    </p>\n",
    "    <p>\n",
    "        <persName>Бунина</persName>\n",
    "        <persName>Алданов</persName>\n",
    "        <persName>Бербер</persName>\n",
    "    </p>\n",
    "</note>       "
   ]
  },
  {
   "cell_type": "code",
   "execution_count": 51,
   "metadata": {},
   "outputs": [
    {
     "data": {
      "text/plain": [
       "[<persName lemma=\"алданов\" ref=\"#landau\">Алданова,</persName>,\n",
       " <persName lemma=\"цетлин\" ref=\"#tsetlin\">Цетлиных.</persName>,\n",
       " <persName lemma=\"адамович\" ref=\"#adamovich\">Адамовича,</persName>]"
      ]
     },
     "execution_count": 51,
     "metadata": {},
     "output_type": "execute_result"
    }
   ],
   "source": [
    "soup.find_all('persName')"
   ]
  },
  {
   "cell_type": "code",
   "execution_count": 52,
   "metadata": {},
   "outputs": [
    {
     "name": "stdout",
     "output_type": "stream",
     "text": [
      "Алданова,\n",
      "Цетлиных.\n",
      "Адамовича,\n"
     ]
    }
   ],
   "source": [
    "for person in soup.find_all('persName'):\n",
    "    print(person.get_text())"
   ]
  },
  {
   "cell_type": "code",
   "execution_count": null,
   "metadata": {},
   "outputs": [],
   "source": []
  }
 ],
 "metadata": {
  "kernelspec": {
   "display_name": "Python 3",
   "language": "python",
   "name": "python3"
  },
  "language_info": {
   "codemirror_mode": {
    "name": "ipython",
    "version": 3
   },
   "file_extension": ".py",
   "mimetype": "text/x-python",
   "name": "python",
   "nbconvert_exporter": "python",
   "pygments_lexer": "ipython3",
   "version": "3.8.1"
  }
 },
 "nbformat": 4,
 "nbformat_minor": 4
}
