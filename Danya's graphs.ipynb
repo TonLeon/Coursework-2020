{
 "cells": [
  {
   "cell_type": "code",
   "execution_count": 12,
   "metadata": {},
   "outputs": [],
   "source": [
    "import re\n",
    "from itertools import combinations"
   ]
  },
  {
   "cell_type": "code",
   "execution_count": 2,
   "metadata": {},
   "outputs": [],
   "source": [
    "def otkryvalka_fayla (put_k_faylu):\n",
    "    \"\"\" Получаем на вход путь к исходному файлу\n",
    "    считываем файл в строку\n",
    "    возвращаем строку\n",
    "    \"\"\"\n",
    "    with open (put_k_faylu, 'r') as openfile:\n",
    "        fayl_kak_stroka = openfile.read()\n",
    "        return fayl_kak_stroka"
   ]
  },
  {
   "cell_type": "code",
   "execution_count": 13,
   "metadata": {},
   "outputs": [
    {
     "data": {
      "text/plain": [
       "'Даня и Ваня гуляли \\nЛиза и Лиля страдали\\nМаша и Герман кодили, а потом к ним присоединилась Юля\\nМаша и Юля\\nЮля и Маша'"
      ]
     },
     "execution_count": 13,
     "metadata": {},
     "output_type": "execute_result"
    }
   ],
   "source": [
    "file = otkryvalka_fayla('/Users/tonleon/Desktop/Danya.txt')\n",
    "file"
   ]
  },
  {
   "cell_type": "code",
   "execution_count": 14,
   "metadata": {},
   "outputs": [],
   "source": [
    "def vydelyalka_obyektov (kakoy_to_text):\n",
    "    \"\"\" Получаем на вход текст\n",
    "    Возвращаем список интересующих нас в этом тексте объектов\n",
    "    (как список строк) -- это будущие узлы нашего графа\n",
    "    \"\"\"\n",
    "    obyekty = re.findall ('[А-ЯЁ][а-яё]+',kakoy_to_text) # намеренно примитивная логика\n",
    "    # как раз здесь вы можете встроить что угодно более сложное\n",
    "    return obyekty"
   ]
  },
  {
   "cell_type": "code",
   "execution_count": 15,
   "metadata": {},
   "outputs": [
    {
     "data": {
      "text/plain": [
       "['Даня',\n",
       " 'Ваня',\n",
       " 'Лиза',\n",
       " 'Лиля',\n",
       " 'Маша',\n",
       " 'Герман',\n",
       " 'Юля',\n",
       " 'Маша',\n",
       " 'Юля',\n",
       " 'Юля',\n",
       " 'Маша']"
      ]
     },
     "execution_count": 15,
     "metadata": {},
     "output_type": "execute_result"
    }
   ],
   "source": [
    "vydelyalka_obyektov(file)"
   ]
  },
  {
   "cell_type": "code",
   "execution_count": 16,
   "metadata": {},
   "outputs": [],
   "source": [
    "def vydelyalka_svyazey (abzac):\n",
    "    \"\"\" Получаем на вход абзац как строку\n",
    "    выделяем в нем все интересующие нас объекты с помощью vydelyalka_obyektov\n",
    "    создаем список пар \"все со всеми\" при помощи combinations\n",
    "    возвращаем спиоск пар\n",
    "    \"\"\"\n",
    "    obyekty_abzaca = vydelyalka_obyektov (abzac)\n",
    "    obyekty_abzaca.sort() # отсортируем, чтобы нам не мешал разный порядок пар\n",
    "    spisok_svyazey_abzaca = []\n",
    "    tekushaya_para = []\n",
    "    spisok_svyazey_abzaca = list(combinations(obyekty_abzaca, 2))\n",
    "    return spisok_svyazey_abzaca"
   ]
  },
  {
   "cell_type": "code",
   "execution_count": 17,
   "metadata": {},
   "outputs": [
    {
     "data": {
      "text/plain": [
       "[('Ваня', 'Герман'),\n",
       " ('Ваня', 'Даня'),\n",
       " ('Ваня', 'Лиза'),\n",
       " ('Ваня', 'Лиля'),\n",
       " ('Ваня', 'Маша'),\n",
       " ('Ваня', 'Маша'),\n",
       " ('Ваня', 'Маша'),\n",
       " ('Ваня', 'Юля'),\n",
       " ('Ваня', 'Юля'),\n",
       " ('Ваня', 'Юля'),\n",
       " ('Герман', 'Даня'),\n",
       " ('Герман', 'Лиза'),\n",
       " ('Герман', 'Лиля'),\n",
       " ('Герман', 'Маша'),\n",
       " ('Герман', 'Маша'),\n",
       " ('Герман', 'Маша'),\n",
       " ('Герман', 'Юля'),\n",
       " ('Герман', 'Юля'),\n",
       " ('Герман', 'Юля'),\n",
       " ('Даня', 'Лиза'),\n",
       " ('Даня', 'Лиля'),\n",
       " ('Даня', 'Маша'),\n",
       " ('Даня', 'Маша'),\n",
       " ('Даня', 'Маша'),\n",
       " ('Даня', 'Юля'),\n",
       " ('Даня', 'Юля'),\n",
       " ('Даня', 'Юля'),\n",
       " ('Лиза', 'Лиля'),\n",
       " ('Лиза', 'Маша'),\n",
       " ('Лиза', 'Маша'),\n",
       " ('Лиза', 'Маша'),\n",
       " ('Лиза', 'Юля'),\n",
       " ('Лиза', 'Юля'),\n",
       " ('Лиза', 'Юля'),\n",
       " ('Лиля', 'Маша'),\n",
       " ('Лиля', 'Маша'),\n",
       " ('Лиля', 'Маша'),\n",
       " ('Лиля', 'Юля'),\n",
       " ('Лиля', 'Юля'),\n",
       " ('Лиля', 'Юля'),\n",
       " ('Маша', 'Маша'),\n",
       " ('Маша', 'Маша'),\n",
       " ('Маша', 'Юля'),\n",
       " ('Маша', 'Юля'),\n",
       " ('Маша', 'Юля'),\n",
       " ('Маша', 'Маша'),\n",
       " ('Маша', 'Юля'),\n",
       " ('Маша', 'Юля'),\n",
       " ('Маша', 'Юля'),\n",
       " ('Маша', 'Юля'),\n",
       " ('Маша', 'Юля'),\n",
       " ('Маша', 'Юля'),\n",
       " ('Юля', 'Юля'),\n",
       " ('Юля', 'Юля'),\n",
       " ('Юля', 'Юля')]"
      ]
     },
     "execution_count": 17,
     "metadata": {},
     "output_type": "execute_result"
    }
   ],
   "source": [
    "vydelyalka_svyazey(file)"
   ]
  },
  {
   "cell_type": "code",
   "execution_count": 5,
   "metadata": {},
   "outputs": [],
   "source": [
    "def obhodchik_abzacev (text_s_mnojestvom_abzacev):\n",
    "    \"\"\" Получаем на вход файл как строку\n",
    "    превращаем его в список абзацев\n",
    "    обходим абзацы\n",
    "    вытаскиваем из каждого его связи с помощью vydelyalka_svyazey\n",
    "    кладем все связи всех абзацев в один список\n",
    "    возвращаем список\n",
    "    \"\"\"\n",
    "    spisok_abzacev = text_s_mnojestvom_abzacev.split('\\n')\n",
    "    spisok_vseh_svyazey = []\n",
    "    for abzac in spisok_abzacev:\n",
    "        print ('Текст абзаца: ', abzac)\n",
    "        svyazi_tekushego_abzaca = vydelyalka_svyazey (abzac)\n",
    "        print ('Все связи абзаца: ', svyazi_tekushego_abzaca)\n",
    "        spisok_vseh_svyazey.extend (svyazi_tekushego_abzaca)\n",
    "    print ('Все связи в документе: ', spisok_vseh_svyazey)    \n",
    "    return spisok_vseh_svyazey"
   ]
  },
  {
   "cell_type": "code",
   "execution_count": 6,
   "metadata": {},
   "outputs": [],
   "source": [
    "## вариант записи в граф без весов \n",
    "def zapis_v_graf (spisok_vseh_svyazey):\n",
    "    \"\"\" Получаем на вход список связей в виде пар\n",
    "    превращаем его в множество пар (убиваем дубликаты)\n",
    "    возвращаем множество пар\n",
    "    \"\"\"\n",
    "    graf = set (spisok_vseh_svyazey)\n",
    "    return graf"
   ]
  },
  {
   "cell_type": "code",
   "execution_count": null,
   "metadata": {},
   "outputs": [],
   "source": [
    "## вариант записи в граф с весами  (ниже используется он)\n",
    "def zapis_v_graf_s_vesami (spisok_vseh_svyazey):\n",
    "    \"\"\" Получаем на вход список связей в виде пар\n",
    "    превращаем его в словарь пар\n",
    "    ключ -- пара, значение -- сколько раз такая пара встретилась(это будет вес связи в графе)\n",
    "    возвращаем множество пар\n",
    "    \"\"\"\n",
    "    graf = {}\n",
    "    for svyaz in spisok_vseh_svyazey:\n",
    "        if svyaz in graf:\n",
    "            graf [svyaz] += 1\n",
    "        else:\n",
    "            graf [svyaz] = 1\n",
    "    return graf"
   ]
  },
  {
   "cell_type": "code",
   "execution_count": null,
   "metadata": {},
   "outputs": [],
   "source": [
    "def zapis_v_fayl (put_k_vyhodnomu, graf):\n",
    "    \"\"\" Получаем на вход путь к выходному файлу\n",
    "    и граф в виде\n",
    "    -- либо множества (случай невзвешеннго графа)\n",
    "    -- либо словаря (случай взвешеннго графа)\n",
    "    пишем его в файл построчно: одна связь (пара, ребро) -- одна строка\n",
    "    \"\"\"\n",
    "    with open (put_k_vyhodnomu,'w') as output_file:\n",
    "        for rebro in graf:\n",
    "            if type(graf) == set: # случай невзвешенного графа, полученного функцией zapis_v_graf\n",
    "                output_file.write (rebro[0]+','+rebro[1]+'\\n')\n",
    "            elif type(graf) == dict: # случай взвешенного графа, полученного функцией zapis_v_graf_s_vesami\n",
    "                ves_rebra = graf [rebro]\n",
    "                output_file.write (rebro[0]+','+rebro[1]+ ',' + str(ves_rebra) + '\\n')"
   ]
  },
  {
   "cell_type": "code",
   "execution_count": 9,
   "metadata": {},
   "outputs": [
    {
     "name": "stdout",
     "output_type": "stream",
     "text": [
      "путь к файлу с текстом: /Users/tonleon/Desktop/test.txt\n",
      "куда записать: parsed.txt\n",
      "Текст абзаца:  Даня и Ваня гуляли \n",
      "Все связи абзаца:  []\n",
      "Текст абзаца:  Лиза и Лиля страдали\n",
      "Все связи абзаца:  []\n",
      "Текст абзаца:  Маша и Герман кодили, а потом к ним присоединилась Юля\n",
      "Все связи абзаца:  []\n",
      "Текст абзаца:  Маша и Юля\n",
      "Все связи абзаца:  []\n",
      "Текст абзаца:  Юля и Маша\n",
      "Все связи абзаца:  []\n",
      "Все связи в документе:  []\n",
      "путь к файлу с текстом: /Users/tonleon/Documents/GitHub/dhcourse/networks/test\n",
      "куда записать: parsed.txt\n",
      "Текст абзаца:  Даня и Ваня гуляли \n",
      "Все связи абзаца:  []\n",
      "Текст абзаца:  Лиза и Лиля страдали\n",
      "Все связи абзаца:  []\n",
      "Текст абзаца:  Маша и Герман кодили, а потом к ним присоединилась Юля\n",
      "Все связи абзаца:  []\n",
      "Текст абзаца:  Маша и Юля\n",
      "Все связи абзаца:  []\n",
      "Текст абзаца:  Юля и Маша\n",
      "Все связи абзаца:  []\n",
      "Все связи в документе:  []\n"
     ]
    },
    {
     "ename": "KeyboardInterrupt",
     "evalue": "",
     "output_type": "error",
     "traceback": [
      "\u001b[0;31m---------------------------------------------------------------------------\u001b[0m",
      "\u001b[0;31mKeyboardInterrupt\u001b[0m                         Traceback (most recent call last)",
      "\u001b[0;32m/Library/Frameworks/Python.framework/Versions/3.8/lib/python3.8/site-packages/ipykernel/kernelbase.py\u001b[0m in \u001b[0;36m_input_request\u001b[0;34m(self, prompt, ident, parent, password)\u001b[0m\n\u001b[1;32m    883\u001b[0m             \u001b[0;32mtry\u001b[0m\u001b[0;34m:\u001b[0m\u001b[0;34m\u001b[0m\u001b[0;34m\u001b[0m\u001b[0m\n\u001b[0;32m--> 884\u001b[0;31m                 \u001b[0mident\u001b[0m\u001b[0;34m,\u001b[0m \u001b[0mreply\u001b[0m \u001b[0;34m=\u001b[0m \u001b[0mself\u001b[0m\u001b[0;34m.\u001b[0m\u001b[0msession\u001b[0m\u001b[0;34m.\u001b[0m\u001b[0mrecv\u001b[0m\u001b[0;34m(\u001b[0m\u001b[0mself\u001b[0m\u001b[0;34m.\u001b[0m\u001b[0mstdin_socket\u001b[0m\u001b[0;34m,\u001b[0m \u001b[0;36m0\u001b[0m\u001b[0;34m)\u001b[0m\u001b[0;34m\u001b[0m\u001b[0;34m\u001b[0m\u001b[0m\n\u001b[0m\u001b[1;32m    885\u001b[0m             \u001b[0;32mexcept\u001b[0m \u001b[0mException\u001b[0m\u001b[0;34m:\u001b[0m\u001b[0;34m\u001b[0m\u001b[0;34m\u001b[0m\u001b[0m\n",
      "\u001b[0;32m/Library/Frameworks/Python.framework/Versions/3.8/lib/python3.8/site-packages/jupyter_client/session.py\u001b[0m in \u001b[0;36mrecv\u001b[0;34m(self, socket, mode, content, copy)\u001b[0m\n\u001b[1;32m    812\u001b[0m         \u001b[0;32mtry\u001b[0m\u001b[0;34m:\u001b[0m\u001b[0;34m\u001b[0m\u001b[0;34m\u001b[0m\u001b[0m\n\u001b[0;32m--> 813\u001b[0;31m             \u001b[0mmsg_list\u001b[0m \u001b[0;34m=\u001b[0m \u001b[0msocket\u001b[0m\u001b[0;34m.\u001b[0m\u001b[0mrecv_multipart\u001b[0m\u001b[0;34m(\u001b[0m\u001b[0mmode\u001b[0m\u001b[0;34m,\u001b[0m \u001b[0mcopy\u001b[0m\u001b[0;34m=\u001b[0m\u001b[0mcopy\u001b[0m\u001b[0;34m)\u001b[0m\u001b[0;34m\u001b[0m\u001b[0;34m\u001b[0m\u001b[0m\n\u001b[0m\u001b[1;32m    814\u001b[0m         \u001b[0;32mexcept\u001b[0m \u001b[0mzmq\u001b[0m\u001b[0;34m.\u001b[0m\u001b[0mZMQError\u001b[0m \u001b[0;32mas\u001b[0m \u001b[0me\u001b[0m\u001b[0;34m:\u001b[0m\u001b[0;34m\u001b[0m\u001b[0;34m\u001b[0m\u001b[0m\n",
      "\u001b[0;32m/Library/Frameworks/Python.framework/Versions/3.8/lib/python3.8/site-packages/zmq/sugar/socket.py\u001b[0m in \u001b[0;36mrecv_multipart\u001b[0;34m(self, flags, copy, track)\u001b[0m\n\u001b[1;32m    474\u001b[0m         \"\"\"\n\u001b[0;32m--> 475\u001b[0;31m         \u001b[0mparts\u001b[0m \u001b[0;34m=\u001b[0m \u001b[0;34m[\u001b[0m\u001b[0mself\u001b[0m\u001b[0;34m.\u001b[0m\u001b[0mrecv\u001b[0m\u001b[0;34m(\u001b[0m\u001b[0mflags\u001b[0m\u001b[0;34m,\u001b[0m \u001b[0mcopy\u001b[0m\u001b[0;34m=\u001b[0m\u001b[0mcopy\u001b[0m\u001b[0;34m,\u001b[0m \u001b[0mtrack\u001b[0m\u001b[0;34m=\u001b[0m\u001b[0mtrack\u001b[0m\u001b[0;34m)\u001b[0m\u001b[0;34m]\u001b[0m\u001b[0;34m\u001b[0m\u001b[0;34m\u001b[0m\u001b[0m\n\u001b[0m\u001b[1;32m    476\u001b[0m         \u001b[0;31m# have first part already, only loop while more to receive\u001b[0m\u001b[0;34m\u001b[0m\u001b[0;34m\u001b[0m\u001b[0;34m\u001b[0m\u001b[0m\n",
      "\u001b[0;32mzmq/backend/cython/socket.pyx\u001b[0m in \u001b[0;36mzmq.backend.cython.socket.Socket.recv\u001b[0;34m()\u001b[0m\n",
      "\u001b[0;32mzmq/backend/cython/socket.pyx\u001b[0m in \u001b[0;36mzmq.backend.cython.socket.Socket.recv\u001b[0;34m()\u001b[0m\n",
      "\u001b[0;32mzmq/backend/cython/socket.pyx\u001b[0m in \u001b[0;36mzmq.backend.cython.socket._recv_copy\u001b[0;34m()\u001b[0m\n",
      "\u001b[0;32m/Library/Frameworks/Python.framework/Versions/3.8/lib/python3.8/site-packages/zmq/backend/cython/checkrc.pxd\u001b[0m in \u001b[0;36mzmq.backend.cython.checkrc._check_rc\u001b[0;34m()\u001b[0m\n",
      "\u001b[0;31mKeyboardInterrupt\u001b[0m: ",
      "\nDuring handling of the above exception, another exception occurred:\n",
      "\u001b[0;31mKeyboardInterrupt\u001b[0m                         Traceback (most recent call last)",
      "\u001b[0;32m<ipython-input-9-35491c0043e3>\u001b[0m in \u001b[0;36m<module>\u001b[0;34m\u001b[0m\n\u001b[1;32m      1\u001b[0m \u001b[0;32mif\u001b[0m \u001b[0m__name__\u001b[0m \u001b[0;34m==\u001b[0m \u001b[0;34m\"__main__\"\u001b[0m\u001b[0;34m:\u001b[0m\u001b[0;34m\u001b[0m\u001b[0;34m\u001b[0m\u001b[0m\n\u001b[1;32m      2\u001b[0m     \u001b[0;32mwhile\u001b[0m \u001b[0;34m(\u001b[0m\u001b[0;32mTrue\u001b[0m\u001b[0;34m)\u001b[0m\u001b[0;34m:\u001b[0m\u001b[0;34m\u001b[0m\u001b[0;34m\u001b[0m\u001b[0m\n\u001b[0;32m----> 3\u001b[0;31m         \u001b[0mvhodn_fayl\u001b[0m \u001b[0;34m=\u001b[0m \u001b[0minput\u001b[0m \u001b[0;34m(\u001b[0m\u001b[0;34m'путь к файлу с текстом: '\u001b[0m\u001b[0;34m)\u001b[0m\u001b[0;34m\u001b[0m\u001b[0;34m\u001b[0m\u001b[0m\n\u001b[0m\u001b[1;32m      4\u001b[0m         \u001b[0mvyhodn_fayl\u001b[0m \u001b[0;34m=\u001b[0m \u001b[0minput\u001b[0m \u001b[0;34m(\u001b[0m\u001b[0;34m'куда записать: '\u001b[0m\u001b[0;34m)\u001b[0m\u001b[0;34m\u001b[0m\u001b[0;34m\u001b[0m\u001b[0m\n\u001b[1;32m      5\u001b[0m         \u001b[0motkrytiy_fayl\u001b[0m \u001b[0;34m=\u001b[0m \u001b[0motkryvalka_fayla\u001b[0m \u001b[0;34m(\u001b[0m\u001b[0mvhodn_fayl\u001b[0m\u001b[0;34m)\u001b[0m\u001b[0;34m\u001b[0m\u001b[0;34m\u001b[0m\u001b[0m\n",
      "\u001b[0;32m/Library/Frameworks/Python.framework/Versions/3.8/lib/python3.8/site-packages/ipykernel/kernelbase.py\u001b[0m in \u001b[0;36mraw_input\u001b[0;34m(self, prompt)\u001b[0m\n\u001b[1;32m    854\u001b[0m                 \u001b[0;34m\"raw_input was called, but this frontend does not support input requests.\"\u001b[0m\u001b[0;34m\u001b[0m\u001b[0;34m\u001b[0m\u001b[0m\n\u001b[1;32m    855\u001b[0m             )\n\u001b[0;32m--> 856\u001b[0;31m         return self._input_request(str(prompt),\n\u001b[0m\u001b[1;32m    857\u001b[0m             \u001b[0mself\u001b[0m\u001b[0;34m.\u001b[0m\u001b[0m_parent_ident\u001b[0m\u001b[0;34m,\u001b[0m\u001b[0;34m\u001b[0m\u001b[0;34m\u001b[0m\u001b[0m\n\u001b[1;32m    858\u001b[0m             \u001b[0mself\u001b[0m\u001b[0;34m.\u001b[0m\u001b[0m_parent_header\u001b[0m\u001b[0;34m,\u001b[0m\u001b[0;34m\u001b[0m\u001b[0;34m\u001b[0m\u001b[0m\n",
      "\u001b[0;32m/Library/Frameworks/Python.framework/Versions/3.8/lib/python3.8/site-packages/ipykernel/kernelbase.py\u001b[0m in \u001b[0;36m_input_request\u001b[0;34m(self, prompt, ident, parent, password)\u001b[0m\n\u001b[1;32m    887\u001b[0m             \u001b[0;32mexcept\u001b[0m \u001b[0mKeyboardInterrupt\u001b[0m\u001b[0;34m:\u001b[0m\u001b[0;34m\u001b[0m\u001b[0;34m\u001b[0m\u001b[0m\n\u001b[1;32m    888\u001b[0m                 \u001b[0;31m# re-raise KeyboardInterrupt, to truncate traceback\u001b[0m\u001b[0;34m\u001b[0m\u001b[0;34m\u001b[0m\u001b[0;34m\u001b[0m\u001b[0m\n\u001b[0;32m--> 889\u001b[0;31m                 \u001b[0;32mraise\u001b[0m \u001b[0mKeyboardInterrupt\u001b[0m\u001b[0;34m\u001b[0m\u001b[0;34m\u001b[0m\u001b[0m\n\u001b[0m\u001b[1;32m    890\u001b[0m             \u001b[0;32melse\u001b[0m\u001b[0;34m:\u001b[0m\u001b[0;34m\u001b[0m\u001b[0;34m\u001b[0m\u001b[0m\n\u001b[1;32m    891\u001b[0m                 \u001b[0;32mbreak\u001b[0m\u001b[0;34m\u001b[0m\u001b[0;34m\u001b[0m\u001b[0m\n",
      "\u001b[0;31mKeyboardInterrupt\u001b[0m: "
     ]
    }
   ],
   "source": [
    "if __name__ == \"__main__\":\n",
    "    while (True):\n",
    "        vhodn_fayl = input ('путь к файлу с текстом: ')\n",
    "        vyhodn_fayl = input ('куда записать: ')\n",
    "        otkrytiy_fayl = otkryvalka_fayla (vhodn_fayl)\n",
    "        spisok_svyazey = obhodchik_abzacev(otkrytiy_fayl)\n",
    "        mnojestvo_svyazey_s_vesami = zapis_v_graf_s_vesami (spisok_svyazey)\n",
    "        zapis_v_fayl (vyhodn_fayl, mnojestvo_svyazey_s_vesami)"
   ]
  },
  {
   "cell_type": "code",
   "execution_count": null,
   "metadata": {},
   "outputs": [],
   "source": []
  }
 ],
 "metadata": {
  "kernelspec": {
   "display_name": "Python 3",
   "language": "python",
   "name": "python3"
  },
  "language_info": {
   "codemirror_mode": {
    "name": "ipython",
    "version": 3
   },
   "file_extension": ".py",
   "mimetype": "text/x-python",
   "name": "python",
   "nbconvert_exporter": "python",
   "pygments_lexer": "ipython3",
   "version": "3.8.1"
  }
 },
 "nbformat": 4,
 "nbformat_minor": 4
}
