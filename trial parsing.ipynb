{
 "cells": [
  {
   "cell_type": "code",
   "execution_count": 1,
   "metadata": {},
   "outputs": [],
   "source": [
    "from bs4 import BeautifulSoup as bs"
   ]
  },
  {
   "cell_type": "code",
   "execution_count": 13,
   "metadata": {},
   "outputs": [],
   "source": [
    "f = open('/Users/tonleon/Documents/GitHub/Coursework-2020/trial.xml', 'r')\n",
    "contents = f.read()\n",
    "f.close()"
   ]
  },
  {
   "cell_type": "code",
   "execution_count": 14,
   "metadata": {},
   "outputs": [],
   "source": [
    "soup = bs(contents, 'xml')"
   ]
  },
  {
   "cell_type": "code",
   "execution_count": 15,
   "metadata": {},
   "outputs": [
    {
     "name": "stdout",
     "output_type": "stream",
     "text": [
      "<?xml version=\"1.0\" encoding=\"utf-8\"?>\n",
      "<root>\n",
      " <date>\n",
      "  1 янв. 1928/19 дек. 1927.\n",
      " </date>\n",
      " <note>\n",
      "  Францию с Новым Годом! А я еще не чувствую, что Новый год идет, хотя уже 8 лет встречаю его во Франции, и все еще не привыкла.\n",
      " </note>\n",
      " <date>\n",
      "  2 января.\n",
      " </date>\n",
      " <note>\n",
      "  В \"Днях\" напечатан рассказ Г. Н.\n",
      "  <persName lemma=\"кузнецова\" ref=\"#kuznetsova\">\n",
      "   #&gt;[Кузнецовой.\n",
      "  </persName>\n",
      "  -- М. Г.]. Статья\n",
      "  <persName lemma=\"макеев\" ref=\"#makeev\">\n",
      "   #&gt;Макеева\n",
      "  </persName>\n",
      "  о \"Совр. Зап.\" Восхищается \"Божьим Древом\"1, но говорит, что эта жизнь канула в вечность.\n",
      "   Ян сказал:  Я пишу о душе русского человека, при чем здесь старое, новое. Вероятно, и теперь какой-нибудь Яков Еф. трясет портками и говорит теми же присказками. А они: все это картины старой жизни, -- да не в этом дело.\n",
      "    сегодня память мамы. Утром молилась. Грустно, что не могу отслужить панихиды. Утешаюсь, что, вероятно, отслужат в Москве. \n",
      "  \n",
      "   [Из конспекта Ивана Алексеевича, написанного его почерком, вероятно, на основе уничтоженных записей:]\n",
      " </note>\n",
      " <date>\n",
      "  9. 1. [нов. ст. и дальше все по н. с]\n",
      " </date>\n",
      " <note>\n",
      "  На пути в Cannes слезли, не доезжая, пошли по рощам мимоз. Солнечн. предвечернее время.\n",
      " </note>\n",
      " <date>\n",
      "  24. 1.\n",
      " </date>\n",
      " <note>\n",
      "  Г.\n",
      "  <persName lemma=\"кузнецова\" ref=\"#kuznetsova\">\n",
      "   #&gt;[Кузнецова.\n",
      "  </persName>\n",
      "  -- М. Г.] начала переписывать вторую книгу \"Жизни\n",
      "  <persName lemma=\"арсеньев\" ref=\"#arsen'ev\">\n",
      "   #&gt;Арсеньева\".\n",
      "  </persName>\n",
      " </note>\n",
      " <date>\n",
      "  27. 1.\n",
      " </date>\n",
      " <note>\n",
      "  Кончила переписку.\n",
      " </note>\n",
      "</root>\n"
     ]
    }
   ],
   "source": [
    "print(soup.prettify())"
   ]
  },
  {
   "cell_type": "code",
   "execution_count": 17,
   "metadata": {},
   "outputs": [
    {
     "data": {
      "text/plain": [
       "<date>   1 янв. 1928/19 дек. 1927.</date>"
      ]
     },
     "execution_count": 17,
     "metadata": {},
     "output_type": "execute_result"
    }
   ],
   "source": [
    "soup.date"
   ]
  },
  {
   "cell_type": "code",
   "execution_count": 21,
   "metadata": {},
   "outputs": [
    {
     "ename": "AttributeError",
     "evalue": "ResultSet object has no attribute 'get_text'. You're probably treating a list of elements like a single element. Did you call find_all() when you meant to call find()?",
     "output_type": "error",
     "traceback": [
      "\u001b[0;31m---------------------------------------------------------------------------\u001b[0m",
      "\u001b[0;31mAttributeError\u001b[0m                            Traceback (most recent call last)",
      "\u001b[0;32m<ipython-input-21-9d8a1f400714>\u001b[0m in \u001b[0;36m<module>\u001b[0;34m\u001b[0m\n\u001b[0;32m----> 1\u001b[0;31m \u001b[0msoup\u001b[0m\u001b[0;34m.\u001b[0m\u001b[0mfind_all\u001b[0m\u001b[0;34m(\u001b[0m\u001b[0;34m'date'\u001b[0m\u001b[0;34m)\u001b[0m\u001b[0;34m.\u001b[0m\u001b[0mget_text\u001b[0m\u001b[0;34m(\u001b[0m\u001b[0;34m'persName'\u001b[0m\u001b[0;34m)\u001b[0m\u001b[0;34m\u001b[0m\u001b[0;34m\u001b[0m\u001b[0m\n\u001b[0m",
      "\u001b[0;32m/Library/Frameworks/Python.framework/Versions/3.8/lib/python3.8/site-packages/bs4/element.py\u001b[0m in \u001b[0;36m__getattr__\u001b[0;34m(self, key)\u001b[0m\n\u001b[1;32m   2078\u001b[0m     \u001b[0;32mdef\u001b[0m \u001b[0m__getattr__\u001b[0m\u001b[0;34m(\u001b[0m\u001b[0mself\u001b[0m\u001b[0;34m,\u001b[0m \u001b[0mkey\u001b[0m\u001b[0;34m)\u001b[0m\u001b[0;34m:\u001b[0m\u001b[0;34m\u001b[0m\u001b[0;34m\u001b[0m\u001b[0m\n\u001b[1;32m   2079\u001b[0m         \u001b[0;34m\"\"\"Raise a helpful exception to explain a common code fix.\"\"\"\u001b[0m\u001b[0;34m\u001b[0m\u001b[0;34m\u001b[0m\u001b[0m\n\u001b[0;32m-> 2080\u001b[0;31m         raise AttributeError(\n\u001b[0m\u001b[1;32m   2081\u001b[0m             \u001b[0;34m\"ResultSet object has no attribute '%s'. You're probably treating a list of elements like a single element. Did you call find_all() when you meant to call find()?\"\u001b[0m \u001b[0;34m%\u001b[0m \u001b[0mkey\u001b[0m\u001b[0;34m\u001b[0m\u001b[0;34m\u001b[0m\u001b[0m\n\u001b[1;32m   2082\u001b[0m         )\n",
      "\u001b[0;31mAttributeError\u001b[0m: ResultSet object has no attribute 'get_text'. You're probably treating a list of elements like a single element. Did you call find_all() when you meant to call find()?"
     ]
    }
   ],
   "source": []
  },
  {
   "cell_type": "code",
   "execution_count": 239,
   "metadata": {},
   "outputs": [
    {
     "name": "stdout",
     "output_type": "stream",
     "text": [
      "None\n",
      "None\n"
     ]
    }
   ],
   "source": [
    "\n",
    "    "
   ]
  },
  {
   "cell_type": "code",
   "execution_count": null,
   "metadata": {},
   "outputs": [],
   "source": []
  }
 ],
 "metadata": {
  "kernelspec": {
   "display_name": "Python 3",
   "language": "python",
   "name": "python3"
  },
  "language_info": {
   "codemirror_mode": {
    "name": "ipython",
    "version": 3
   },
   "file_extension": ".py",
   "mimetype": "text/x-python",
   "name": "python",
   "nbconvert_exporter": "python",
   "pygments_lexer": "ipython3",
   "version": "3.8.1"
  }
 },
 "nbformat": 4,
 "nbformat_minor": 4
}
