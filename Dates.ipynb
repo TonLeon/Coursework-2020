{
 "cells": [
  {
   "cell_type": "code",
   "execution_count": 17,
   "metadata": {},
   "outputs": [],
   "source": [
    "f = open(r'trial_dates.txt', encoding = \"UTF-8\") \n",
    "text = f.read()\n",
    "f.close()\n",
    "dates = text.split('\\n')"
   ]
  },
  {
   "cell_type": "code",
   "execution_count": 19,
   "metadata": {},
   "outputs": [],
   "source": [
    "list_of_dates = []\n",
    "for string in dates:\n",
    "    if string[0].isdigit():\n",
    "        list_of_dates.append(string)"
   ]
  },
  {
   "cell_type": "code",
   "execution_count": 20,
   "metadata": {},
   "outputs": [
    {
     "data": {
      "text/plain": [
       "['1 янв. 1928/19 дек. 1927.',\n",
       " '2 января.',\n",
       " '9. 1. [нов. ст. и дальше все по н. с]',\n",
       " '24. 1.',\n",
       " '27. 1.',\n",
       " '31. 1.',\n",
       " '1.2.',\n",
       " '4.2.',\n",
       " '7.2.',\n",
       " '8. 2.',\n",
       " '18.2.',\n",
       " '19.2.',\n",
       " '20. 2.',\n",
       " '22.2.',\n",
       " '23.2.',\n",
       " '23 февраля 1928 г.',\n",
       " '24 февраля.',\n",
       " '26 ф.']"
      ]
     },
     "execution_count": 20,
     "metadata": {},
     "output_type": "execute_result"
    }
   ],
   "source": [
    "list_of_dates"
   ]
  },
  {
   "cell_type": "code",
   "execution_count": null,
   "metadata": {},
   "outputs": [],
   "source": [
    "d = {}\n"
   ]
  }
 ],
 "metadata": {
  "kernelspec": {
   "display_name": "Python 3",
   "language": "python",
   "name": "python3"
  },
  "language_info": {
   "codemirror_mode": {
    "name": "ipython",
    "version": 3
   },
   "file_extension": ".py",
   "mimetype": "text/x-python",
   "name": "python",
   "nbconvert_exporter": "python",
   "pygments_lexer": "ipython3",
   "version": "3.7.4"
  }
 },
 "nbformat": 4,
 "nbformat_minor": 2
}
